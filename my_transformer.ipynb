{
  "nbformat": 4,
  "nbformat_minor": 0,
  "metadata": {
    "colab": {
      "provenance": [],
      "authorship_tag": "ABX9TyOQCETVlL3Nd+FbiRyF6zTT",
      "include_colab_link": true
    },
    "kernelspec": {
      "name": "python3",
      "display_name": "Python 3"
    },
    "language_info": {
      "name": "python"
    }
  },
  "cells": [
    {
      "cell_type": "markdown",
      "metadata": {
        "id": "view-in-github",
        "colab_type": "text"
      },
      "source": [
        "<a href=\"https://colab.research.google.com/github/Ahmed-Elbagoury/my_transformers/blob/main/my_transformer.ipynb\" target=\"_parent\"><img src=\"https://colab.research.google.com/assets/colab-badge.svg\" alt=\"Open In Colab\"/></a>"
      ]
    },
    {
      "cell_type": "code",
      "execution_count": 9,
      "metadata": {
        "id": "Jn9nSMiVyFuQ"
      },
      "outputs": [],
      "source": [
        "# PyTorch\n",
        "import torch\n",
        "import math\n",
        "import torch.nn.functional as F\n",
        "try:\n",
        "    import pytorch_lightning as pl\n",
        "except ModuleNotFoundError: # Google Colab does not have PyTorch Lightning installed by default. Hence, we do it here if necessary\n",
        "    !pip install --quiet pytorch-lightning>=1.4\n",
        "    import pytorch_lightning as pl"
      ]
    },
    {
      "cell_type": "code",
      "source": [
        "# TODO: Your implementation goes in here\n",
        "def scaled_dot_product(q, k, v, mask=None):\n",
        "  attn_logits = q @ k.transpose(-2, -1) / math.sqrt(q.shape[-1])\n",
        "  if mask is not None:\n",
        "    attn_logits = attn_logits.masked_fill(mask == 0, -9e15)\n",
        "  att = F.softmax(attn_logits, dim=-1)\n",
        "  return att @ v, att"
      ],
      "metadata": {
        "id": "N6ND2Awi1nBO"
      },
      "execution_count": 68,
      "outputs": []
    },
    {
      "cell_type": "code",
      "source": [
        "# TODO: do not change this.\n",
        "# It's copied from https://github.com/phlippe/uvadlc_notebooks/blob/master/docs/tutorial_notebooks/tutorial6/Transformers_and_MHAttention.ipynb\n",
        "def ref_scaled_dot_product(q, k, v, mask=None):\n",
        "    d_k = q.size()[-1]\n",
        "    attn_logits = torch.matmul(q, k.transpose(-2, -1))\n",
        "    attn_logits = attn_logits / math.sqrt(d_k)\n",
        "    if mask is not None:\n",
        "        attn_logits = attn_logits.masked_fill(mask == 0, -9e15)\n",
        "    attention = F.softmax(attn_logits, dim=-1)\n",
        "    values = torch.matmul(attention, v)\n",
        "    return values, attention"
      ],
      "metadata": {
        "id": "l2CvPG501Gu2"
      },
      "execution_count": 69,
      "outputs": []
    },
    {
      "cell_type": "code",
      "source": [
        "# Test cases are from https://github.com/phlippe/uvadlc_notebooks/blob/master/docs/tutorial_notebooks/tutorial6/Transformers_and_MHAttention.ipynb\n",
        "seq_len, d_k = 3, 2\n",
        "pl.seed_everything(42)\n",
        "q = torch.randn(seq_len, d_k)\n",
        "k = torch.randn(seq_len, d_k)\n",
        "v = torch.randn(seq_len, d_k)\n",
        "\n",
        "ref_values, ref_attention = ref_scaled_dot_product(q, k, v)\n",
        "values, attention = scaled_dot_product(q, k, v)\n",
        "\n",
        "assert torch.allclose(ref_values, values)\n",
        "assert torch.allclose(ref_attention, attention)"
      ],
      "metadata": {
        "colab": {
          "base_uri": "https://localhost:8080/"
        },
        "id": "3NxeUDGfyfx2",
        "outputId": "e63447ad-b366-4b79-c1bd-c8d914d2e1ab"
      },
      "execution_count": 70,
      "outputs": [
        {
          "output_type": "stream",
          "name": "stderr",
          "text": [
            "INFO:lightning_fabric.utilities.seed:Seed set to 42\n"
          ]
        }
      ]
    }
  ]
}